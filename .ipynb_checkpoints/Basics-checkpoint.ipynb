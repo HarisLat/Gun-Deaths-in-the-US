{
 "cells": [
  {
   "cell_type": "code",
   "execution_count": 2,
   "metadata": {},
   "outputs": [
    {
     "name": "stdout",
     "output_type": "stream",
     "text": [
      "[['', 'year', 'month', 'intent', 'police', 'sex', 'age', 'race', 'hispanic', 'place', 'education'], ['1', '2012', '01', 'Suicide', '0', 'M', '34', 'Asian/Pacific Islander', '100', 'Home', '4'], ['2', '2012', '01', 'Suicide', '0', 'F', '21', 'White', '100', 'Street', '3'], ['3', '2012', '01', 'Suicide', '0', 'M', '60', 'White', '100', 'Other specified', '4'], ['4', '2012', '02', 'Suicide', '0', 'M', '64', 'White', '100', 'Home', '4']]\n"
     ]
    }
   ],
   "source": [
    "import csv\n",
    "a=open(\"guns.csv\",\"r\")\n",
    "data=list(csv.reader(a))\n",
    "print(data[0:5])"
   ]
  },
  {
   "cell_type": "code",
   "execution_count": 3,
   "metadata": {},
   "outputs": [
    {
     "name": "stdout",
     "output_type": "stream",
     "text": [
      "['', 'year', 'month', 'intent', 'police', 'sex', 'age', 'race', 'hispanic', 'place', 'education']\n",
      "[['1', '2012', '01', 'Suicide', '0', 'M', '34', 'Asian/Pacific Islander', '100', 'Home', '4'], ['2', '2012', '01', 'Suicide', '0', 'F', '21', 'White', '100', 'Street', '3'], ['3', '2012', '01', 'Suicide', '0', 'M', '60', 'White', '100', 'Other specified', '4'], ['4', '2012', '02', 'Suicide', '0', 'M', '64', 'White', '100', 'Home', '4'], ['5', '2012', '02', 'Suicide', '0', 'M', '31', 'White', '100', 'Other specified', '2']]\n"
     ]
    }
   ],
   "source": [
    "headers=data[0]\n",
    "data=data[1:]\n",
    "print(headers)\n",
    "print(data[0:5])"
   ]
  },
  {
   "cell_type": "code",
   "execution_count": 4,
   "metadata": {},
   "outputs": [
    {
     "name": "stdout",
     "output_type": "stream",
     "text": [
      "{'2012': 33563, '2013': 33636, '2014': 33599}\n"
     ]
    }
   ],
   "source": [
    "years=[row[1] for row in data]\n",
    "year_counts={}\n",
    "for year in years:\n",
    "    if year in year_counts:\n",
    "        year_counts[year]=year_counts[year]+1\n",
    "    else:\n",
    "        year_counts[year]=1\n",
    "print(year_counts)\n",
    "    "
   ]
  },
  {
   "cell_type": "code",
   "execution_count": 5,
   "metadata": {},
   "outputs": [
    {
     "name": "stdout",
     "output_type": "stream",
     "text": [
      "['2012-01-01 00:00:00', '2012-01-01 00:00:00', '2012-01-01 00:00:00', '2012-02-01 00:00:00', '2012-02-01 00:00:00']\n",
      "{'2012-01-01 00:00:00': 2758, '2012-02-01 00:00:00': 2357, '2012-03-01 00:00:00': 2743, '2012-04-01 00:00:00': 2795, '2012-05-01 00:00:00': 2999, '2012-06-01 00:00:00': 2826, '2012-07-01 00:00:00': 3026, '2012-08-01 00:00:00': 2954, '2012-09-01 00:00:00': 2852, '2012-10-01 00:00:00': 2733, '2012-11-01 00:00:00': 2729, '2012-12-01 00:00:00': 2791, '2013-01-01 00:00:00': 2864, '2013-02-01 00:00:00': 2375, '2013-03-01 00:00:00': 2862, '2013-04-01 00:00:00': 2798, '2013-05-01 00:00:00': 2806, '2013-06-01 00:00:00': 2920, '2013-07-01 00:00:00': 3079, '2013-08-01 00:00:00': 2859, '2013-09-01 00:00:00': 2742, '2013-10-01 00:00:00': 2808, '2013-11-01 00:00:00': 2758, '2013-12-01 00:00:00': 2765, '2014-01-01 00:00:00': 2651, '2014-02-01 00:00:00': 2361, '2014-03-01 00:00:00': 2684, '2014-04-01 00:00:00': 2862, '2014-05-01 00:00:00': 2864, '2014-06-01 00:00:00': 2931, '2014-07-01 00:00:00': 2884, '2014-08-01 00:00:00': 2970, '2014-09-01 00:00:00': 2914, '2014-10-01 00:00:00': 2865, '2014-11-01 00:00:00': 2756, '2014-12-01 00:00:00': 2857}\n"
     ]
    }
   ],
   "source": [
    "import datetime\n",
    "dates=[str(datetime.datetime(year=int(row[1]),month=int(row[2]),day=1)) for row in data]\n",
    "print(dates[0:5])\n",
    "date_counts={}\n",
    "for date in dates:\n",
    "    if date in date_counts:\n",
    "        date_counts[date]=date_counts[date]+1\n",
    "    else:\n",
    "        date_counts[date]=1\n",
    "print(date_counts)"
   ]
  },
  {
   "cell_type": "code",
   "execution_count": 6,
   "metadata": {},
   "outputs": [
    {
     "data": {
      "text/plain": [
       "[['1',\n",
       "  '2012',\n",
       "  '01',\n",
       "  'Suicide',\n",
       "  '0',\n",
       "  'M',\n",
       "  '34',\n",
       "  'Asian/Pacific Islander',\n",
       "  '100',\n",
       "  'Home',\n",
       "  '4'],\n",
       " ['2', '2012', '01', 'Suicide', '0', 'F', '21', 'White', '100', 'Street', '3'],\n",
       " ['3',\n",
       "  '2012',\n",
       "  '01',\n",
       "  'Suicide',\n",
       "  '0',\n",
       "  'M',\n",
       "  '60',\n",
       "  'White',\n",
       "  '100',\n",
       "  'Other specified',\n",
       "  '4'],\n",
       " ['4', '2012', '02', 'Suicide', '0', 'M', '64', 'White', '100', 'Home', '4'],\n",
       " ['5',\n",
       "  '2012',\n",
       "  '02',\n",
       "  'Suicide',\n",
       "  '0',\n",
       "  'M',\n",
       "  '31',\n",
       "  'White',\n",
       "  '100',\n",
       "  'Other specified',\n",
       "  '2']]"
      ]
     },
     "execution_count": 6,
     "metadata": {},
     "output_type": "execute_result"
    }
   ],
   "source": [
    "data[0:5]"
   ]
  },
  {
   "cell_type": "code",
   "execution_count": 7,
   "metadata": {},
   "outputs": [
    {
     "name": "stdout",
     "output_type": "stream",
     "text": [
      "{'M': 86349, 'F': 14449}\n",
      "{'Asian/Pacific Islander': 1326, 'White': 66237, 'Native American/Native Alaskan': 917, 'Black': 23296, 'Hispanic': 9022}\n"
     ]
    }
   ],
   "source": [
    "sex_counts={}\n",
    "race_counts={}\n",
    "for row in data:\n",
    "    if row[5] in sex_counts:\n",
    "        sex_counts[row[5]]=sex_counts[row[5]]+1\n",
    "    else:\n",
    "        sex_counts[row[5]]=1\n",
    "    if row[7] in race_counts:\n",
    "        race_counts[row[7]]=race_counts[row[7]]+1\n",
    "    else:\n",
    "        race_counts[row[7]]=1\n",
    "print(sex_counts)\n",
    "print(race_counts)"
   ]
  },
  {
   "cell_type": "markdown",
   "metadata": {},
   "source": [
    "## Exploring gun deaths in the US\n",
    "The annual death rates from gun shots between 2012 and 2014 look relatively stable. The same stands if someone looks at the monthly rates. \n",
    "\n",
    "The majority of the victims are male. Looking at race characteristics most of the victims are white people (66237) followed by black people (23296). \n",
    "\n",
    "It will be interesting to examine other demographics like age or level of education of the victims, as well as the motives of the gun shots and the involvement of the police. "
   ]
  },
  {
   "cell_type": "code",
   "execution_count": 8,
   "metadata": {},
   "outputs": [
    {
     "name": "stdout",
     "output_type": "stream",
     "text": [
      "[['Id', 'Year', 'Id', 'Sex', 'Id', 'Hispanic Origin', 'Id', 'Id2', 'Geography', 'Total', 'Race Alone - White', 'Race Alone - Hispanic', 'Race Alone - Black or African American', 'Race Alone - American Indian and Alaska Native', 'Race Alone - Asian', 'Race Alone - Native Hawaiian and Other Pacific Islander', 'Two or More Races'], ['cen42010', 'April 1, 2010 Census', 'totsex', 'Both Sexes', 'tothisp', 'Total', '0100000US', '', 'United States', '308745538', '197318956', '44618105', '40250635', '3739506', '15159516', '674625', '6984195']]\n"
     ]
    }
   ],
   "source": [
    "import csv\n",
    "a=open(\"census.csv\",\"r\")\n",
    "census=list(csv.reader(a))\n",
    "print(census)"
   ]
  },
  {
   "cell_type": "code",
   "execution_count": 9,
   "metadata": {},
   "outputs": [
    {
     "name": "stdout",
     "output_type": "stream",
     "text": [
      "[['', 'year', 'month', 'intent', 'police', 'sex', 'age', 'race', 'hispanic', 'place', 'education'], ['1', '2012', '01', 'Suicide', '0', 'M', '34', 'Asian/Pacific Islander', '100', 'Home', '4'], ['2', '2012', '01', 'Suicide', '0', 'F', '21', 'White', '100', 'Street', '3'], ['3', '2012', '01', 'Suicide', '0', 'M', '60', 'White', '100', 'Other specified', '4'], ['4', '2012', '02', 'Suicide', '0', 'M', '64', 'White', '100', 'Home', '4']]\n"
     ]
    }
   ],
   "source": [
    "import csv\n",
    "a=open(\"guns.csv\",\"r\")\n",
    "data=list(csv.reader(a))\n",
    "print(data[0:5])\n",
    "headers=data[0]\n",
    "data=data[1:]"
   ]
  },
  {
   "cell_type": "code",
   "execution_count": 10,
   "metadata": {},
   "outputs": [
    {
     "name": "stdout",
     "output_type": "stream",
     "text": [
      "{'M': 86349, 'F': 14449}\n",
      "{'Asian/Pacific Islander': 1326, 'White': 66237, 'Native American/Native Alaskan': 917, 'Black': 23296, 'Hispanic': 9022}\n"
     ]
    }
   ],
   "source": [
    "sex_counts={}\n",
    "race_counts={}\n",
    "for row in data:\n",
    "    if row[5] in sex_counts:\n",
    "        sex_counts[row[5]]=sex_counts[row[5]]+1\n",
    "    else:\n",
    "        sex_counts[row[5]]=1\n",
    "    if row[7] in race_counts:\n",
    "        race_counts[row[7]]=race_counts[row[7]]+1\n",
    "    else:\n",
    "        race_counts[row[7]]=1\n",
    "print(sex_counts)\n",
    "print(race_counts)"
   ]
  },
  {
   "cell_type": "code",
   "execution_count": 11,
   "metadata": {},
   "outputs": [
    {
     "name": "stdout",
     "output_type": "stream",
     "text": [
      "[['Id', 'Year', 'Id', 'Sex', 'Id', 'Hispanic Origin', 'Id', 'Id2', 'Geography', 'Total', 'Race Alone - White', 'Race Alone - Hispanic', 'Race Alone - Black or African American', 'Race Alone - American Indian and Alaska Native', 'Race Alone - Asian', 'Race Alone - Native Hawaiian and Other Pacific Islander', 'Two or More Races'], ['cen42010', 'April 1, 2010 Census', 'totsex', 'Both Sexes', 'tothisp', 'Total', '0100000US', '', 'United States', '308745538', '197318956', '44618105', '40250635', '3739506', '15159516', '674625', '6984195']]\n"
     ]
    }
   ],
   "source": [
    "import csv\n",
    "a=open(\"census.csv\",\"r\")\n",
    "census=list(csv.reader(a))\n",
    "print(census)"
   ]
  },
  {
   "cell_type": "code",
   "execution_count": 12,
   "metadata": {},
   "outputs": [
    {
     "data": {
      "text/plain": [
       "['cen42010',\n",
       " 'April 1, 2010 Census',\n",
       " 'totsex',\n",
       " 'Both Sexes',\n",
       " 'tothisp',\n",
       " 'Total',\n",
       " '0100000US',\n",
       " '',\n",
       " 'United States',\n",
       " '308745538',\n",
       " '197318956',\n",
       " '44618105',\n",
       " '40250635',\n",
       " '3739506',\n",
       " '15159516',\n",
       " '674625',\n",
       " '6984195']"
      ]
     },
     "execution_count": 12,
     "metadata": {},
     "output_type": "execute_result"
    }
   ],
   "source": [
    "census[1]"
   ]
  },
  {
   "cell_type": "code",
   "execution_count": 13,
   "metadata": {
    "collapsed": true
   },
   "outputs": [],
   "source": [
    "census=census[1]"
   ]
  },
  {
   "cell_type": "code",
   "execution_count": 14,
   "metadata": {},
   "outputs": [
    {
     "name": "stdout",
     "output_type": "stream",
     "text": [
      "['cen42010', 'April 1, 2010 Census', 'totsex', 'Both Sexes', 'tothisp', 'Total', '0100000US', '', 'United States', '308745538', '197318956', '44618105', '40250635', '3739506', '15159516', '674625', '6984195']\n"
     ]
    }
   ],
   "source": [
    "print(census)"
   ]
  },
  {
   "cell_type": "code",
   "execution_count": 15,
   "metadata": {},
   "outputs": [
    {
     "name": "stdout",
     "output_type": "stream",
     "text": [
      "[['Id', 'Year', 'Id', 'Sex', 'Id', 'Hispanic Origin', 'Id', 'Id2', 'Geography', 'Total', 'Race Alone - White', 'Race Alone - Hispanic', 'Race Alone - Black or African American', 'Race Alone - American Indian and Alaska Native', 'Race Alone - Asian', 'Race Alone - Native Hawaiian and Other Pacific Islander', 'Two or More Races'], ['cen42010', 'April 1, 2010 Census', 'totsex', 'Both Sexes', 'tothisp', 'Total', '0100000US', '', 'United States', '308745538', '197318956', '44618105', '40250635', '3739506', '15159516', '674625', '6984195']]\n"
     ]
    }
   ],
   "source": [
    "import csv\n",
    "a=open(\"census.csv\",\"r\")\n",
    "census=list(csv.reader(a))\n",
    "print(census)"
   ]
  },
  {
   "cell_type": "code",
   "execution_count": 16,
   "metadata": {},
   "outputs": [
    {
     "name": "stdout",
     "output_type": "stream",
     "text": [
      "{'Asian/Pacific Islander': 1326, 'White': 66237, 'Native American/Native Alaskan': 917, 'Black': 23296, 'Hispanic': 9022}\n"
     ]
    }
   ],
   "source": [
    "print(race_counts)"
   ]
  },
  {
   "cell_type": "code",
   "execution_count": 17,
   "metadata": {},
   "outputs": [
    {
     "name": "stdout",
     "output_type": "stream",
     "text": [
      "{'Asian/Pacific Islander': 17.313372033811998, 'White': 148.45318957405297, 'Native American/Native Alaskan': 6.049005786200562, 'Black': 622.9699858751396, 'Hispanic': 22.41455321139654}\n"
     ]
    }
   ],
   "source": [
    "mapping={}\n",
    "census_headers=census[0]\n",
    "census=census[1]\n",
    "mapping[\"Asian/Pacific Islander\"]=int(census[15])+int(census[16])\n",
    "mapping[\"Black\"]=int(census[13])\n",
    "mapping[\"Hispanic\"]=int(census[12])\n",
    "mapping[\"Native American/Native Alaskan\"]=int(census[14])\n",
    "mapping[\"White\"]=int(census[11])\n",
    "\n",
    "race_per_hundredk={}\n",
    "for key,value in race_counts.items():\n",
    "    result=(value/mapping[key])*100000\n",
    "    race_per_hundredk[key]=result\n",
    "print(race_per_hundredk)"
   ]
  },
  {
   "cell_type": "code",
   "execution_count": 18,
   "metadata": {},
   "outputs": [
    {
     "name": "stdout",
     "output_type": "stream",
     "text": [
      "{'White': 20.50064654247418, 'Asian/Pacific Islander': 7.298774484842313, 'Black': 521.7266665703972, 'Native American/Native Alaskan': 2.1504644343526533, 'Hispanic': 13.997294701064964}\n"
     ]
    }
   ],
   "source": [
    "intents=[row[3] for row in data]\n",
    "races=[row[7] for row in data]\n",
    "homicide_race_counts={}\n",
    "for i,race in enumerate(races):\n",
    "    if intents[i]==\"Homicide\":\n",
    "        if race in homicide_race_counts:\n",
    "            homicide_race_counts[race]=homicide_race_counts[race]+1\n",
    "        else:\n",
    "            homicide_race_counts[race]=1\n",
    "\n",
    "for key,value in homicide_race_counts.items():\n",
    "    result=(value/mapping[key])*100000\n",
    "    homicide_race_counts[key]=result\n",
    "print(homicide_race_counts)\n"
   ]
  },
  {
   "cell_type": "markdown",
   "metadata": {},
   "source": [
    "## Gun Deaths and Homicides for 100k people\n",
    "Comparing the dataset with census data we found that the most affected group from gun deaths in the US is black people. \n",
    "\n",
    "The results, even though reduced, is similar for homicides. However, it's interesting to see that the majority of gun shots where the victims were white people was not related to homicide incidents. \n",
    "\n",
    "The next step of the analysis is to examine how these numbers break down for different places and education levels "
   ]
  },
  {
   "cell_type": "code",
   "execution_count": 19,
   "metadata": {},
   "outputs": [
    {
     "name": "stdout",
     "output_type": "stream",
     "text": [
      "{'03': 2780, '04': 2845, '06': 3130, '07': 3269, '08': 3125, '09': 2966, '10': 2968, '12': 3191, '01': 2829, '02': 2178, '05': 2976, '11': 2919}\n"
     ]
    }
   ],
   "source": [
    "months=[row[2] for row in data]\n",
    "homicide_month_counts={}\n",
    "for i,month in enumerate(months):\n",
    "    if intents[i]==\"Homicide\":\n",
    "        if month in homicide_month_counts:\n",
    "            homicide_month_counts[month]=homicide_month_counts[month]+1\n",
    "        else:\n",
    "            homicide_month_counts[month]=1\n",
    "        \n",
    "\n",
    "print(homicide_month_counts)\n",
    "    "
   ]
  },
  {
   "cell_type": "markdown",
   "metadata": {},
   "source": [
    "## Homicides by month\n",
    "As we can see, the homicides are increased for all summer months as well as for December. Let's explore how the homicide rate varies for gender\n"
   ]
  },
  {
   "cell_type": "code",
   "execution_count": 20,
   "metadata": {},
   "outputs": [
    {
     "name": "stdout",
     "output_type": "stream",
     "text": [
      "{'M': 29803, 'F': 5373}\n"
     ]
    }
   ],
   "source": [
    "gender=[row[5] for row in data]\n",
    "homicide_gender_counts={}\n",
    "for i,gen in enumerate(gender):\n",
    "    if intents[i]==\"Homicide\":\n",
    "        if gen in homicide_gender_counts:\n",
    "            homicide_gender_counts[gen]=homicide_gender_counts[gen]+1\n",
    "        else:\n",
    "            homicide_gender_counts[gen]=1\n",
    "        \n",
    "\n",
    "print(homicide_gender_counts)"
   ]
  },
  {
   "cell_type": "code",
   "execution_count": null,
   "metadata": {
    "collapsed": true
   },
   "outputs": [],
   "source": []
  }
 ],
 "metadata": {
  "kernelspec": {
   "display_name": "Python 3",
   "language": "python",
   "name": "python3"
  },
  "language_info": {
   "codemirror_mode": {
    "name": "ipython",
    "version": 3
   },
   "file_extension": ".py",
   "mimetype": "text/x-python",
   "name": "python",
   "nbconvert_exporter": "python",
   "pygments_lexer": "ipython3",
   "version": "3.6.3"
  }
 },
 "nbformat": 4,
 "nbformat_minor": 1
}
